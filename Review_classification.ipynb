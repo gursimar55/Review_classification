{
 "cells": [
  {
   "cell_type": "markdown",
   "metadata": {},
   "source": [
    "### Loading the required modeuls "
   ]
  },
  {
   "cell_type": "code",
   "execution_count": 1,
   "metadata": {},
   "outputs": [],
   "source": [
    "import bs4\n",
    "import requests\n",
    "import numpy as np\n",
    "import pandas as pd\n",
    "from sklearn.feature_extraction.text import CountVectorizer\n",
    "from sklearn.model_selection import train_test_split\n",
    "from sklearn.metrics import *\n",
    "from sklearn.model_selection import cross_val_score, RepeatedKFold\n",
    "from sklearn.feature_extraction.text import TfidfVectorizer\n",
    "from sklearn.feature_extraction.text import TfidfTransformer\n",
    "import urllib.request\n",
    "from sklearn.linear_model import LogisticRegression\n",
    "from sklearn.metrics import confusion_matrix\n",
    "from sklearn import metrics\n",
    "import matplotlib.pyplot as plt"
   ]
  },
  {
   "cell_type": "markdown",
   "metadata": {},
   "source": [
    "# Task 1: Web Scrapping and storing data in three seperate databases\n",
    "We will scrape all the reviews from 3 review categories, **Automotive**, **Cafes** and **Hotel**. The reviews are stored in 3 seperate datasets."
   ]
  },
  {
   "cell_type": "code",
   "execution_count": 2,
   "metadata": {},
   "outputs": [],
   "source": [
    "category  = ['http://mlg.ucd.ie/modules/yalp/automotive_list.html','http://mlg.ucd.ie/modules/yalp/cafes_list.html','http://mlg.ucd.ie/modules/yalp/hotels_list.html']\n",
    "go = []\n",
    "\n",
    "for x in category:\n",
    "    y=[]\n",
    "    response = urllib.request.urlopen(x)\n",
    "    html = response.read().decode()\n",
    "    soup = bs4.BeautifulSoup(html,\"html.parser\")\n",
    "    for i in soup.findAll('a'):\n",
    "        y.append(i.get('href'))  #consists of a list of links for all the bussinesses for each category\n",
    "        \n",
    "    go.append(y)"
   ]
  },
  {
   "cell_type": "code",
   "execution_count": 3,
   "metadata": {},
   "outputs": [],
   "source": [
    "link = \"http://mlg.ucd.ie/modules/yalp/\"\n",
    "go = [ [link+x for x in y] for y in go]"
   ]
  },
  {
   "cell_type": "code",
   "execution_count": 4,
   "metadata": {},
   "outputs": [],
   "source": [
    "data = []\n",
    "i = 0\n",
    "\n",
    "for url in go:\n",
    "    review= []\n",
    "    rating = []\n",
    "    \n",
    "    for x in url:\n",
    "        response = urllib.request.urlopen(x)\n",
    "        html = response.read().decode()\n",
    "        soup = bs4.BeautifulSoup(html, \"html.parser\")\n",
    "        \n",
    "        for r in soup.find_all('img'):  #finding img tag\n",
    "            if r.get('alt') !=None:     #alt tag consists the ratings for the reviews\n",
    "                if int(r.get('alt')[0])>3:\n",
    "                    rating.append('Positive') #if rating > 3, assigns positive\n",
    "                else:\n",
    "                    rating.append('Negative') #if raitng <3, assigns negative\n",
    "            \n",
    "     \n",
    "                \n",
    "        for r in soup.find_all('p', class_='review-text'):  #finding the review-text class which consists of the review text\n",
    "            review.append(r.get_text())\n",
    "            \n",
    "    data.append(pd.DataFrame(review))\n",
    "    data[i]['rating']=rating\n",
    "    i=i+1\n",
    "\n",
    "        "
   ]
  },
  {
   "cell_type": "code",
   "execution_count": 5,
   "metadata": {},
   "outputs": [],
   "source": [
    "data[0].columns=['review','rating'] #Automotive Dataset\n",
    "data[1].columns=['review','rating'] #Cafes Dataset\n",
    "data[2].columns=['review','rating'] #Hotels Dataset"
   ]
  },
  {
   "cell_type": "code",
   "execution_count": 7,
   "metadata": {},
   "outputs": [],
   "source": [
    "#saving the dataframe in csv files\n",
    "data[0].to_csv('automotive_data.csv', encoding='utf-8', index=False)\n",
    "data[1].to_csv('cafe_data.csv', encoding='utf-8', index=False)\n",
    "data[2].to_csv('hotel_data.csv', encoding='utf-8', index=False)"
   ]
  },
  {
   "cell_type": "markdown",
   "metadata": {},
   "source": [
    "# Task 2:"
   ]
  },
  {
   "cell_type": "markdown",
   "metadata": {},
   "source": [
    "### Loading all the required CSV files \n",
    "We are loading the three csv files we created by scraping the reviews and ratings from 3 categories, **Automotive**, **Cafes** and **Hotels**. "
   ]
  },
  {
   "cell_type": "code",
   "execution_count": 6,
   "metadata": {},
   "outputs": [],
   "source": [
    "df1 = pd.read_csv('automotive_data.csv', index_col=None )\n",
    "df2 = pd.read_csv('cafe_data.csv', index_col=None )\n",
    "df3 = pd.read_csv('hotel_data.csv', index_col=None )"
   ]
  },
  {
   "cell_type": "markdown",
   "metadata": {},
   "source": [
    "## Categroy 1.  Automotive "
   ]
  },
  {
   "cell_type": "code",
   "execution_count": 8,
   "metadata": {},
   "outputs": [
    {
     "data": {
      "text/html": [
       "<div>\n",
       "<style scoped>\n",
       "    .dataframe tbody tr th:only-of-type {\n",
       "        vertical-align: middle;\n",
       "    }\n",
       "\n",
       "    .dataframe tbody tr th {\n",
       "        vertical-align: top;\n",
       "    }\n",
       "\n",
       "    .dataframe thead th {\n",
       "        text-align: right;\n",
       "    }\n",
       "</style>\n",
       "<table border=\"1\" class=\"dataframe\">\n",
       "  <thead>\n",
       "    <tr style=\"text-align: right;\">\n",
       "      <th></th>\n",
       "      <th>review</th>\n",
       "      <th>rating</th>\n",
       "    </tr>\n",
       "  </thead>\n",
       "  <tbody>\n",
       "    <tr>\n",
       "      <th>0</th>\n",
       "      <td>The man that was working tonight (8-12-17) was...</td>\n",
       "      <td>Negative</td>\n",
       "    </tr>\n",
       "    <tr>\n",
       "      <th>1</th>\n",
       "      <td>Chris is a very rude person. Gave me an attitu...</td>\n",
       "      <td>Negative</td>\n",
       "    </tr>\n",
       "    <tr>\n",
       "      <th>2</th>\n",
       "      <td>One of my favorite gas station to stop at. The...</td>\n",
       "      <td>Positive</td>\n",
       "    </tr>\n",
       "    <tr>\n",
       "      <th>3</th>\n",
       "      <td>Oh thank Heaven for Seven Eleven! I don't know...</td>\n",
       "      <td>Negative</td>\n",
       "    </tr>\n",
       "    <tr>\n",
       "      <th>4</th>\n",
       "      <td>Five stars because of the guy who works weekda...</td>\n",
       "      <td>Positive</td>\n",
       "    </tr>\n",
       "  </tbody>\n",
       "</table>\n",
       "</div>"
      ],
      "text/plain": [
       "                                              review    rating\n",
       "0  The man that was working tonight (8-12-17) was...  Negative\n",
       "1  Chris is a very rude person. Gave me an attitu...  Negative\n",
       "2  One of my favorite gas station to stop at. The...  Positive\n",
       "3  Oh thank Heaven for Seven Eleven! I don't know...  Negative\n",
       "4  Five stars because of the guy who works weekda...  Positive"
      ]
     },
     "execution_count": 8,
     "metadata": {},
     "output_type": "execute_result"
    }
   ],
   "source": [
    "df1.head()"
   ]
  },
  {
   "cell_type": "code",
   "execution_count": 9,
   "metadata": {},
   "outputs": [
    {
     "data": {
      "text/plain": [
       "Positive    1212\n",
       "Negative     788\n",
       "Name: rating, dtype: int64"
      ]
     },
     "execution_count": 9,
     "metadata": {},
     "output_type": "execute_result"
    }
   ],
   "source": [
    "df1['rating'].value_counts()"
   ]
  },
  {
   "cell_type": "markdown",
   "metadata": {},
   "source": [
    "For the automotive dataset, there are 1212 positive reviewsand 788 negative reviews."
   ]
  },
  {
   "cell_type": "code",
   "execution_count": 10,
   "metadata": {},
   "outputs": [
    {
     "name": "stdout",
     "output_type": "stream",
     "text": [
      "Read 2000 documents\n"
     ]
    }
   ],
   "source": [
    "review = df1[\"review\"]\n",
    "target = df1[\"rating\"]\n",
    "print(\"Read %d documents\" % len(df1))"
   ]
  },
  {
   "cell_type": "markdown",
   "metadata": {},
   "source": [
    "### <font color='Red'>Preprocessing to create a numerical representation of data</font>\n",
    "To preprocess the data, we are using TFidfVectorizer. It creates a numeric representation of data that can be used as input to the estimator. It tokenizes the document, and converts the document in lowercase. It also removes the tokens of lengh 1. We are futher performaing a few other preprocessing steps such as removal of stop words, by using the built-in stop words list by specifying the language. Further we are considering unigrams and bigrams. Minimum document frequency for the term is 2."
   ]
  },
  {
   "cell_type": "code",
   "execution_count": 11,
   "metadata": {},
   "outputs": [
    {
     "name": "stdout",
     "output_type": "stream",
     "text": [
      "(2000, 13600)\n",
      "Vocabulary has 13600 distinct terms\n"
     ]
    }
   ],
   "source": [
    "vectorizer = TfidfVectorizer(ngram_range = (1,2), stop_words='english', min_df =2)\n",
    "X = vectorizer.fit_transform(review)\n",
    "print(X.shape)\n",
    "terms = vectorizer.get_feature_names()\n",
    "print(\"Vocabulary has %d distinct terms\" % len(terms))"
   ]
  },
  {
   "cell_type": "code",
   "execution_count": 12,
   "metadata": {},
   "outputs": [
    {
     "name": "stdout",
     "output_type": "stream",
     "text": [
      "['car suddenly', 'car super', 'car supposed', 'car sure', 'car taken', 'car takes', 'car talk', 'car tech', 'car tell', 'car tells']\n"
     ]
    }
   ],
   "source": [
    "# Displaying a set of sample terms\n",
    "print(terms[2000:2010])"
   ]
  },
  {
   "cell_type": "code",
   "execution_count": 13,
   "metadata": {},
   "outputs": [],
   "source": [
    "data_train, data_test, target_train, target_test = train_test_split(X, target, test_size=0.2)"
   ]
  },
  {
   "cell_type": "markdown",
   "metadata": {},
   "source": [
    "### **<font color='Red'>Training the model</font>**\n",
    "We are using Logistic Regression here. The model is trained on the training set so that it can classify unseen data, i.e. the test set."
   ]
  },
  {
   "cell_type": "code",
   "execution_count": 14,
   "metadata": {},
   "outputs": [
    {
     "name": "stderr",
     "output_type": "stream",
     "text": [
      "/Users/sahil/opt/anaconda3/lib/python3.7/site-packages/sklearn/linear_model/logistic.py:432: FutureWarning: Default solver will be changed to 'lbfgs' in 0.22. Specify a solver to silence this warning.\n",
      "  FutureWarning)\n"
     ]
    },
    {
     "data": {
      "text/plain": [
       "LogisticRegression(C=1.0, class_weight=None, dual=False, fit_intercept=True,\n",
       "                   intercept_scaling=1, l1_ratio=None, max_iter=100,\n",
       "                   multi_class='warn', n_jobs=None, penalty='l2',\n",
       "                   random_state=0, solver='warn', tol=0.0001, verbose=0,\n",
       "                   warm_start=False)"
      ]
     },
     "execution_count": 14,
     "metadata": {},
     "output_type": "execute_result"
    }
   ],
   "source": [
    "model = LogisticRegression(random_state=0)\n",
    "model.fit(data_train, target_train)"
   ]
  },
  {
   "cell_type": "markdown",
   "metadata": {},
   "source": [
    "### <font color='Red'>Testing and evaluation</font>\n",
    "The model is tested on the test data which is the unseen data. The model classifies the unseen data, in positive or  negative classes.\n",
    "\n",
    "We are using classification report and confusion matrix for evaluating the model. "
   ]
  },
  {
   "cell_type": "code",
   "execution_count": 15,
   "metadata": {
    "scrolled": true
   },
   "outputs": [
    {
     "name": "stdout",
     "output_type": "stream",
     "text": [
      "Accuracy = 0.86\n",
      "              precision    recall  f1-score   support\n",
      "\n",
      "    Negative       0.92      0.72      0.81       167\n",
      "    Positive       0.83      0.96      0.89       233\n",
      "\n",
      "    accuracy                           0.86       400\n",
      "   macro avg       0.88      0.84      0.85       400\n",
      "weighted avg       0.87      0.86      0.86       400\n",
      "\n"
     ]
    },
    {
     "data": {
      "text/html": [
       "<div>\n",
       "<style scoped>\n",
       "    .dataframe tbody tr th:only-of-type {\n",
       "        vertical-align: middle;\n",
       "    }\n",
       "\n",
       "    .dataframe tbody tr th {\n",
       "        vertical-align: top;\n",
       "    }\n",
       "\n",
       "    .dataframe thead th {\n",
       "        text-align: right;\n",
       "    }\n",
       "</style>\n",
       "<table border=\"1\" class=\"dataframe\">\n",
       "  <thead>\n",
       "    <tr style=\"text-align: right;\">\n",
       "      <th>Predicted</th>\n",
       "      <th>Negative</th>\n",
       "      <th>Positive</th>\n",
       "      <th>All</th>\n",
       "    </tr>\n",
       "    <tr>\n",
       "      <th>True</th>\n",
       "      <th></th>\n",
       "      <th></th>\n",
       "      <th></th>\n",
       "    </tr>\n",
       "  </thead>\n",
       "  <tbody>\n",
       "    <tr>\n",
       "      <th>Negative</th>\n",
       "      <td>121</td>\n",
       "      <td>46</td>\n",
       "      <td>167</td>\n",
       "    </tr>\n",
       "    <tr>\n",
       "      <th>Positive</th>\n",
       "      <td>10</td>\n",
       "      <td>223</td>\n",
       "      <td>233</td>\n",
       "    </tr>\n",
       "    <tr>\n",
       "      <th>All</th>\n",
       "      <td>131</td>\n",
       "      <td>269</td>\n",
       "      <td>400</td>\n",
       "    </tr>\n",
       "  </tbody>\n",
       "</table>\n",
       "</div>"
      ],
      "text/plain": [
       "Predicted  Negative  Positive  All\n",
       "True                              \n",
       "Negative        121        46  167\n",
       "Positive         10       223  233\n",
       "All             131       269  400"
      ]
     },
     "metadata": {},
     "output_type": "display_data"
    }
   ],
   "source": [
    "predicted = model.predict(data_test)\n",
    "print(\"Accuracy = %.2f\" % accuracy_score(target_test, predicted) )\n",
    "m1 = accuracy_score(target_test, predicted)\n",
    "print(metrics.classification_report(target_test, predicted, target_names=df1['rating'].unique())) \n",
    "display(pd.crosstab(target_test, predicted, rownames=[\"True\"],colnames = ['Predicted'], margins = True))"
   ]
  },
  {
   "cell_type": "markdown",
   "metadata": {},
   "source": [
    "## Category 2. Cafe "
   ]
  },
  {
   "cell_type": "code",
   "execution_count": 16,
   "metadata": {},
   "outputs": [
    {
     "data": {
      "text/html": [
       "<div>\n",
       "<style scoped>\n",
       "    .dataframe tbody tr th:only-of-type {\n",
       "        vertical-align: middle;\n",
       "    }\n",
       "\n",
       "    .dataframe tbody tr th {\n",
       "        vertical-align: top;\n",
       "    }\n",
       "\n",
       "    .dataframe thead th {\n",
       "        text-align: right;\n",
       "    }\n",
       "</style>\n",
       "<table border=\"1\" class=\"dataframe\">\n",
       "  <thead>\n",
       "    <tr style=\"text-align: right;\">\n",
       "      <th></th>\n",
       "      <th>review</th>\n",
       "      <th>rating</th>\n",
       "    </tr>\n",
       "  </thead>\n",
       "  <tbody>\n",
       "    <tr>\n",
       "      <th>0</th>\n",
       "      <td>Pros: Lots of items you would not expect from ...</td>\n",
       "      <td>Positive</td>\n",
       "    </tr>\n",
       "    <tr>\n",
       "      <th>1</th>\n",
       "      <td>Best egg-tarts in town! There's really not muc...</td>\n",
       "      <td>Positive</td>\n",
       "    </tr>\n",
       "    <tr>\n",
       "      <th>2</th>\n",
       "      <td>I've been to ABC Bakery a few times since I re...</td>\n",
       "      <td>Negative</td>\n",
       "    </tr>\n",
       "    <tr>\n",
       "      <th>3</th>\n",
       "      <td>FYI, Closed Monday's New ownership for about 1...</td>\n",
       "      <td>Negative</td>\n",
       "    </tr>\n",
       "    <tr>\n",
       "      <th>4</th>\n",
       "      <td>The inside may not look like much but they mak...</td>\n",
       "      <td>Positive</td>\n",
       "    </tr>\n",
       "  </tbody>\n",
       "</table>\n",
       "</div>"
      ],
      "text/plain": [
       "                                              review    rating\n",
       "0  Pros: Lots of items you would not expect from ...  Positive\n",
       "1  Best egg-tarts in town! There's really not muc...  Positive\n",
       "2  I've been to ABC Bakery a few times since I re...  Negative\n",
       "3  FYI, Closed Monday's New ownership for about 1...  Negative\n",
       "4  The inside may not look like much but they mak...  Positive"
      ]
     },
     "execution_count": 16,
     "metadata": {},
     "output_type": "execute_result"
    }
   ],
   "source": [
    "df2.head()"
   ]
  },
  {
   "cell_type": "code",
   "execution_count": 17,
   "metadata": {},
   "outputs": [
    {
     "data": {
      "text/plain": [
       "Positive    1462\n",
       "Negative     538\n",
       "Name: rating, dtype: int64"
      ]
     },
     "execution_count": 17,
     "metadata": {},
     "output_type": "execute_result"
    }
   ],
   "source": [
    "df2['rating'].value_counts()"
   ]
  },
  {
   "cell_type": "markdown",
   "metadata": {},
   "source": [
    "The cafe dataset has 1462 positive reviews and 538 negative reviews."
   ]
  },
  {
   "cell_type": "code",
   "execution_count": 18,
   "metadata": {},
   "outputs": [
    {
     "name": "stdout",
     "output_type": "stream",
     "text": [
      "Read 2000 documents\n"
     ]
    }
   ],
   "source": [
    "review = df2[\"review\"]\n",
    "target = df2[\"rating\"]\n",
    "print(\"Read %d documents\" % len(df2))"
   ]
  },
  {
   "cell_type": "markdown",
   "metadata": {},
   "source": [
    "### <font color='Red'>Preprocessing to create a numerical representation of data</font>\n",
    "Here also we will preprocess the data as we did with the previous dataset, using TfidfVectorizer. Stop words are removed and we are considering unigrams and bigrams. The minimum document frequency of the term is 2."
   ]
  },
  {
   "cell_type": "code",
   "execution_count": 19,
   "metadata": {},
   "outputs": [
    {
     "name": "stdout",
     "output_type": "stream",
     "text": [
      "(2000, 13423)\n",
      "Vocabulary has 13423 distinct terms\n"
     ]
    }
   ],
   "source": [
    "vectorizer = TfidfVectorizer(ngram_range = (1,2), stop_words='english', min_df=2)\n",
    "X = vectorizer.fit_transform(review)\n",
    "print(X.shape)\n",
    "terms = vectorizer.get_feature_names()\n",
    "print(\"Vocabulary has %d distinct terms\" % len(terms))"
   ]
  },
  {
   "cell_type": "code",
   "execution_count": 20,
   "metadata": {},
   "outputs": [
    {
     "name": "stdout",
     "output_type": "stream",
     "text": [
      "['chocolate chips', 'chocolate chocolate', 'chocolate chunk', 'chocolate cookie', 'chocolate covered', 'chocolate croissant', 'chocolate cupcake', 'chocolate dipped', 'chocolate frozen', 'chocolate fudge']\n"
     ]
    }
   ],
   "source": [
    "# Displaying a set of sample terms\n",
    "print(terms[2000:2010])"
   ]
  },
  {
   "cell_type": "code",
   "execution_count": 21,
   "metadata": {},
   "outputs": [],
   "source": [
    "data_train, data_test, target_train, target_test = train_test_split(X, target, test_size=0.2)"
   ]
  },
  {
   "cell_type": "markdown",
   "metadata": {},
   "source": [
    "### <font color='Red'>Training the model</font>\n"
   ]
  },
  {
   "cell_type": "code",
   "execution_count": 22,
   "metadata": {},
   "outputs": [
    {
     "name": "stderr",
     "output_type": "stream",
     "text": [
      "/Users/sahil/opt/anaconda3/lib/python3.7/site-packages/sklearn/linear_model/logistic.py:432: FutureWarning: Default solver will be changed to 'lbfgs' in 0.22. Specify a solver to silence this warning.\n",
      "  FutureWarning)\n"
     ]
    },
    {
     "data": {
      "text/plain": [
       "LogisticRegression(C=1.0, class_weight=None, dual=False, fit_intercept=True,\n",
       "                   intercept_scaling=1, l1_ratio=None, max_iter=100,\n",
       "                   multi_class='warn', n_jobs=None, penalty='l2',\n",
       "                   random_state=0, solver='warn', tol=0.0001, verbose=0,\n",
       "                   warm_start=False)"
      ]
     },
     "execution_count": 22,
     "metadata": {},
     "output_type": "execute_result"
    }
   ],
   "source": [
    "model_2 = LogisticRegression(random_state=0)\n",
    "model_2.fit(data_train, target_train)"
   ]
  },
  {
   "cell_type": "markdown",
   "metadata": {},
   "source": [
    "### <font color='Red'>Testing and evaluation</font>\n"
   ]
  },
  {
   "cell_type": "code",
   "execution_count": 23,
   "metadata": {},
   "outputs": [
    {
     "name": "stdout",
     "output_type": "stream",
     "text": [
      "Accuracy = 0.81\n",
      "              precision    recall  f1-score   support\n",
      "\n",
      "    Negative       0.97      0.29      0.45       103\n",
      "    Positive       0.80      1.00      0.89       297\n",
      "\n",
      "    accuracy                           0.81       400\n",
      "   macro avg       0.88      0.64      0.67       400\n",
      "weighted avg       0.84      0.81      0.78       400\n",
      "\n"
     ]
    },
    {
     "data": {
      "text/html": [
       "<div>\n",
       "<style scoped>\n",
       "    .dataframe tbody tr th:only-of-type {\n",
       "        vertical-align: middle;\n",
       "    }\n",
       "\n",
       "    .dataframe tbody tr th {\n",
       "        vertical-align: top;\n",
       "    }\n",
       "\n",
       "    .dataframe thead th {\n",
       "        text-align: right;\n",
       "    }\n",
       "</style>\n",
       "<table border=\"1\" class=\"dataframe\">\n",
       "  <thead>\n",
       "    <tr style=\"text-align: right;\">\n",
       "      <th>Predicted</th>\n",
       "      <th>Negative</th>\n",
       "      <th>Positive</th>\n",
       "      <th>All</th>\n",
       "    </tr>\n",
       "    <tr>\n",
       "      <th>True</th>\n",
       "      <th></th>\n",
       "      <th></th>\n",
       "      <th></th>\n",
       "    </tr>\n",
       "  </thead>\n",
       "  <tbody>\n",
       "    <tr>\n",
       "      <th>Negative</th>\n",
       "      <td>30</td>\n",
       "      <td>73</td>\n",
       "      <td>103</td>\n",
       "    </tr>\n",
       "    <tr>\n",
       "      <th>Positive</th>\n",
       "      <td>1</td>\n",
       "      <td>296</td>\n",
       "      <td>297</td>\n",
       "    </tr>\n",
       "    <tr>\n",
       "      <th>All</th>\n",
       "      <td>31</td>\n",
       "      <td>369</td>\n",
       "      <td>400</td>\n",
       "    </tr>\n",
       "  </tbody>\n",
       "</table>\n",
       "</div>"
      ],
      "text/plain": [
       "Predicted  Negative  Positive  All\n",
       "True                              \n",
       "Negative         30        73  103\n",
       "Positive          1       296  297\n",
       "All              31       369  400"
      ]
     },
     "metadata": {},
     "output_type": "display_data"
    }
   ],
   "source": [
    "predicted = model_2.predict(data_test)\n",
    "print(\"Accuracy = %.2f\" % accuracy_score(target_test, predicted) )\n",
    "m2 = accuracy_score(target_test, predicted)\n",
    "print(metrics.classification_report(target_test, predicted, target_names=df1['rating'].unique())) \n",
    "display(pd.crosstab(target_test, predicted, rownames=[\"True\"],colnames = ['Predicted'], margins = True))"
   ]
  },
  {
   "cell_type": "markdown",
   "metadata": {},
   "source": [
    "## Category 3. Hotel "
   ]
  },
  {
   "cell_type": "code",
   "execution_count": 24,
   "metadata": {},
   "outputs": [
    {
     "data": {
      "text/html": [
       "<div>\n",
       "<style scoped>\n",
       "    .dataframe tbody tr th:only-of-type {\n",
       "        vertical-align: middle;\n",
       "    }\n",
       "\n",
       "    .dataframe tbody tr th {\n",
       "        vertical-align: top;\n",
       "    }\n",
       "\n",
       "    .dataframe thead th {\n",
       "        text-align: right;\n",
       "    }\n",
       "</style>\n",
       "<table border=\"1\" class=\"dataframe\">\n",
       "  <thead>\n",
       "    <tr style=\"text-align: right;\">\n",
       "      <th></th>\n",
       "      <th>review</th>\n",
       "      <th>rating</th>\n",
       "    </tr>\n",
       "  </thead>\n",
       "  <tbody>\n",
       "    <tr>\n",
       "      <th>0</th>\n",
       "      <td>Melissa took us on a tour of Asia in the space...</td>\n",
       "      <td>Positive</td>\n",
       "    </tr>\n",
       "    <tr>\n",
       "      <th>1</th>\n",
       "      <td>With a group of seven of us visiting Montreal ...</td>\n",
       "      <td>Positive</td>\n",
       "    </tr>\n",
       "    <tr>\n",
       "      <th>2</th>\n",
       "      <td>Melissa is a gem! My fiancé found her tour on ...</td>\n",
       "      <td>Positive</td>\n",
       "    </tr>\n",
       "    <tr>\n",
       "      <th>3</th>\n",
       "      <td>A perfect day in Montreal! Melissa outfitted u...</td>\n",
       "      <td>Positive</td>\n",
       "    </tr>\n",
       "    <tr>\n",
       "      <th>4</th>\n",
       "      <td>I had a really great food truck tour with Meli...</td>\n",
       "      <td>Positive</td>\n",
       "    </tr>\n",
       "  </tbody>\n",
       "</table>\n",
       "</div>"
      ],
      "text/plain": [
       "                                              review    rating\n",
       "0  Melissa took us on a tour of Asia in the space...  Positive\n",
       "1  With a group of seven of us visiting Montreal ...  Positive\n",
       "2  Melissa is a gem! My fiancé found her tour on ...  Positive\n",
       "3  A perfect day in Montreal! Melissa outfitted u...  Positive\n",
       "4  I had a really great food truck tour with Meli...  Positive"
      ]
     },
     "execution_count": 24,
     "metadata": {},
     "output_type": "execute_result"
    }
   ],
   "source": [
    "df3.head()"
   ]
  },
  {
   "cell_type": "code",
   "execution_count": 25,
   "metadata": {},
   "outputs": [
    {
     "data": {
      "text/plain": [
       "Positive    1176\n",
       "Negative     824\n",
       "Name: rating, dtype: int64"
      ]
     },
     "execution_count": 25,
     "metadata": {},
     "output_type": "execute_result"
    }
   ],
   "source": [
    "df3['rating'].value_counts()"
   ]
  },
  {
   "cell_type": "markdown",
   "metadata": {},
   "source": [
    "The hotel dataset has 1176 positive reviews and 824 negative reviews."
   ]
  },
  {
   "cell_type": "code",
   "execution_count": 26,
   "metadata": {},
   "outputs": [
    {
     "name": "stdout",
     "output_type": "stream",
     "text": [
      "Read 2000 documents\n"
     ]
    }
   ],
   "source": [
    "review = df3[\"review\"]\n",
    "target = df3[\"rating\"]\n",
    "print(\"Read %d documents\" % len(df3))"
   ]
  },
  {
   "cell_type": "markdown",
   "metadata": {},
   "source": [
    "### <font color='Red'>Preprocessing to create a numerical representation of data</font>\n",
    "TfidfVectorizer is being used. Unigram and bigrams are considerd. The stop words have been removed. The minimum document frequency of terms is 2."
   ]
  },
  {
   "cell_type": "code",
   "execution_count": 27,
   "metadata": {},
   "outputs": [
    {
     "name": "stdout",
     "output_type": "stream",
     "text": [
      "(2000, 15501)\n",
      "Vocabulary has 15501 distinct terms\n"
     ]
    }
   ],
   "source": [
    "vectorizer = TfidfVectorizer(ngram_range = (1,2), stop_words='english', min_df=2)\n",
    "X = vectorizer.fit_transform(review)\n",
    "print(X.shape)\n",
    "terms = vectorizer.get_feature_names()\n",
    "print(\"Vocabulary has %d distinct terms\" % len(terms))"
   ]
  },
  {
   "cell_type": "code",
   "execution_count": 28,
   "metadata": {},
   "outputs": [],
   "source": [
    "data_train, data_test, target_train, target_test = train_test_split(X, target, test_size=0.2)"
   ]
  },
  {
   "cell_type": "markdown",
   "metadata": {},
   "source": [
    "### <font color='Red'>Training the model</font>\n"
   ]
  },
  {
   "cell_type": "code",
   "execution_count": 29,
   "metadata": {},
   "outputs": [
    {
     "name": "stderr",
     "output_type": "stream",
     "text": [
      "/Users/sahil/opt/anaconda3/lib/python3.7/site-packages/sklearn/linear_model/logistic.py:432: FutureWarning: Default solver will be changed to 'lbfgs' in 0.22. Specify a solver to silence this warning.\n",
      "  FutureWarning)\n"
     ]
    },
    {
     "data": {
      "text/plain": [
       "LogisticRegression(C=1.0, class_weight=None, dual=False, fit_intercept=True,\n",
       "                   intercept_scaling=1, l1_ratio=None, max_iter=100,\n",
       "                   multi_class='warn', n_jobs=None, penalty='l2',\n",
       "                   random_state=0, solver='warn', tol=0.0001, verbose=0,\n",
       "                   warm_start=False)"
      ]
     },
     "execution_count": 29,
     "metadata": {},
     "output_type": "execute_result"
    }
   ],
   "source": [
    "model_3 = LogisticRegression(random_state=0)\n",
    "model_3.fit(data_train, target_train)"
   ]
  },
  {
   "cell_type": "markdown",
   "metadata": {},
   "source": [
    "### <font color='Red'>Testing and evaluation</font>\n"
   ]
  },
  {
   "cell_type": "code",
   "execution_count": 30,
   "metadata": {},
   "outputs": [
    {
     "name": "stdout",
     "output_type": "stream",
     "text": [
      "Accuracy = 0.88\n",
      "              precision    recall  f1-score   support\n",
      "\n",
      "    Negative       0.93      0.77      0.84       176\n",
      "    Positive       0.84      0.96      0.90       224\n",
      "\n",
      "    accuracy                           0.88       400\n",
      "   macro avg       0.89      0.86      0.87       400\n",
      "weighted avg       0.88      0.88      0.87       400\n",
      "\n"
     ]
    },
    {
     "data": {
      "text/html": [
       "<div>\n",
       "<style scoped>\n",
       "    .dataframe tbody tr th:only-of-type {\n",
       "        vertical-align: middle;\n",
       "    }\n",
       "\n",
       "    .dataframe tbody tr th {\n",
       "        vertical-align: top;\n",
       "    }\n",
       "\n",
       "    .dataframe thead th {\n",
       "        text-align: right;\n",
       "    }\n",
       "</style>\n",
       "<table border=\"1\" class=\"dataframe\">\n",
       "  <thead>\n",
       "    <tr style=\"text-align: right;\">\n",
       "      <th>Predicted</th>\n",
       "      <th>Negative</th>\n",
       "      <th>Positive</th>\n",
       "      <th>All</th>\n",
       "    </tr>\n",
       "    <tr>\n",
       "      <th>True</th>\n",
       "      <th></th>\n",
       "      <th></th>\n",
       "      <th></th>\n",
       "    </tr>\n",
       "  </thead>\n",
       "  <tbody>\n",
       "    <tr>\n",
       "      <th>Negative</th>\n",
       "      <td>136</td>\n",
       "      <td>40</td>\n",
       "      <td>176</td>\n",
       "    </tr>\n",
       "    <tr>\n",
       "      <th>Positive</th>\n",
       "      <td>10</td>\n",
       "      <td>214</td>\n",
       "      <td>224</td>\n",
       "    </tr>\n",
       "    <tr>\n",
       "      <th>All</th>\n",
       "      <td>146</td>\n",
       "      <td>254</td>\n",
       "      <td>400</td>\n",
       "    </tr>\n",
       "  </tbody>\n",
       "</table>\n",
       "</div>"
      ],
      "text/plain": [
       "Predicted  Negative  Positive  All\n",
       "True                              \n",
       "Negative        136        40  176\n",
       "Positive         10       214  224\n",
       "All             146       254  400"
      ]
     },
     "metadata": {},
     "output_type": "display_data"
    }
   ],
   "source": [
    "predicted = model_3.predict(data_test)\n",
    "print(\"Accuracy = %.2f\" % accuracy_score(target_test, predicted) )\n",
    "m3 = accuracy_score(target_test, predicted)\n",
    "print(metrics.classification_report(target_test, predicted, target_names=df1['rating'].unique())) \n",
    "display(pd.crosstab(target_test, predicted, rownames=[\"True\"],colnames = ['Predicted'], margins = True))"
   ]
  },
  {
   "cell_type": "code",
   "execution_count": 31,
   "metadata": {},
   "outputs": [
    {
     "data": {
      "image/png": "[encoded data removed]",
      "text/plain": [
       "<Figure size 504x504 with 1 Axes>"
      ]
     },
     "metadata": {
      "needs_background": "light"
     },
     "output_type": "display_data"
    }
   ],
   "source": [
    "import numpy as np\n",
    "import pandas as pd\n",
    "import matplotlib.pyplot as plt\n",
    "\n",
    "data = [m1,m2,m3]\n",
    "lables = ['Automotive','Cafes','Hotels']\n",
    "plt.figure(figsize = (7,7))\n",
    "plt.bar(lables, data)\n",
    "plt.title('Accuracy for each dataset')\n",
    "plt.xlabel('Datasets')\n",
    "plt.ylabel('Accuracy')\n",
    "plt.show()"
   ]
  },
  {
   "cell_type": "markdown",
   "metadata": {},
   "source": [
    "We are considering 3 categories, automotive, cafes and hotels. Logistice regression is being used for all the cases. The model distinguishes between positive and negative reviews. To evalute the predictions we are using the classification report and confusion matrix.\n",
    "\n",
    "1. The model is trained on the automotive dataset. We are testing the model on the test set(from the original dataset). The accuracy of the model on test set is 0.86, which is good. It can be seen from the confusion matrix that, 121 negative reviews are predicted correctly as negative while only 46 negative reviews are predicted as postive. Further, 269 positive reviews are predicted as postive, while only 10 positive reviews are predicted as negative. The F1 score for the negative reviews in 0.81, while the f1 score for postive reviews is 0.89. This means that the classifier is classifying unseen test data well.\n",
    "\n",
    "2. The model is trained on the cafe dataset. The accuracy of the model on test set is 0.81, which can be considered good, but we have to look at the confusion matrix. From the confusion matrix, it can be seen that out of 103 negative reviews, only 30 negative reviews are predicted as negative, whereas 73 negative reviews are predicted as positive. Therefore F1 score for negative reviews is 0.45. Further, out of 297 positve reviews, the model is predicting 296 positive reviews as psotive, while only 1 postive review is predicted as negative, which is good. The F1 score for positive reviews  is 0.89. From this we can conclude that, the model is classifying the positive reviews well, but it is not classifying the negative reviews well. So we cannot only depend on the accuracy.\n",
    "\n",
    "3. The model is trained on the hotel dataset. The accuracy of the model on test set is 0.88, which is considered good, but we will also look at the confusion matrix. It can be seen that out of 176 negative review, 136 negative reviews are correctly predicted as negative whie only 40 negative reviews have been predicted as positive, the model is predicting the negative class well. Further, out of 224 positive reviews, the model is predicting 214 positive reviews as positive while on 10 reviews as negative, which is also good, The F1 score for negative reviews is 0.84, whereas the F1 score for positive reviews is 0.90. This means that the classifier is classifyin the unseen data well.\n",
    "\n",
    "Out of the three models trained on each dataset, the model trained on Hotels dataset has the highest accuracy, while the model trained on the cafes dataset has lowest accuracy."
   ]
  },
  {
   "cell_type": "markdown",
   "metadata": {},
   "source": [
    "# Task 3\n",
    "\n",
    "\n",
    "## 1. Training on Automotive Dataset\n",
    "The model will be trained on the automotive dataset."
   ]
  },
  {
   "cell_type": "code",
   "execution_count": 32,
   "metadata": {},
   "outputs": [
    {
     "data": {
      "text/html": [
       "<div>\n",
       "<style scoped>\n",
       "    .dataframe tbody tr th:only-of-type {\n",
       "        vertical-align: middle;\n",
       "    }\n",
       "\n",
       "    .dataframe tbody tr th {\n",
       "        vertical-align: top;\n",
       "    }\n",
       "\n",
       "    .dataframe thead th {\n",
       "        text-align: right;\n",
       "    }\n",
       "</style>\n",
       "<table border=\"1\" class=\"dataframe\">\n",
       "  <thead>\n",
       "    <tr style=\"text-align: right;\">\n",
       "      <th></th>\n",
       "      <th>review</th>\n",
       "      <th>rating</th>\n",
       "    </tr>\n",
       "  </thead>\n",
       "  <tbody>\n",
       "    <tr>\n",
       "      <th>0</th>\n",
       "      <td>The man that was working tonight (8-12-17) was...</td>\n",
       "      <td>Negative</td>\n",
       "    </tr>\n",
       "    <tr>\n",
       "      <th>1</th>\n",
       "      <td>Chris is a very rude person. Gave me an attitu...</td>\n",
       "      <td>Negative</td>\n",
       "    </tr>\n",
       "    <tr>\n",
       "      <th>2</th>\n",
       "      <td>One of my favorite gas station to stop at. The...</td>\n",
       "      <td>Positive</td>\n",
       "    </tr>\n",
       "    <tr>\n",
       "      <th>3</th>\n",
       "      <td>Oh thank Heaven for Seven Eleven! I don't know...</td>\n",
       "      <td>Negative</td>\n",
       "    </tr>\n",
       "    <tr>\n",
       "      <th>4</th>\n",
       "      <td>Five stars because of the guy who works weekda...</td>\n",
       "      <td>Positive</td>\n",
       "    </tr>\n",
       "  </tbody>\n",
       "</table>\n",
       "</div>"
      ],
      "text/plain": [
       "                                              review    rating\n",
       "0  The man that was working tonight (8-12-17) was...  Negative\n",
       "1  Chris is a very rude person. Gave me an attitu...  Negative\n",
       "2  One of my favorite gas station to stop at. The...  Positive\n",
       "3  Oh thank Heaven for Seven Eleven! I don't know...  Negative\n",
       "4  Five stars because of the guy who works weekda...  Positive"
      ]
     },
     "execution_count": 32,
     "metadata": {},
     "output_type": "execute_result"
    }
   ],
   "source": [
    "df1.head()"
   ]
  },
  {
   "cell_type": "code",
   "execution_count": 33,
   "metadata": {},
   "outputs": [],
   "source": [
    "#training set\n",
    "X_train = df1[\"review\"]\n",
    "y_train = df1[\"rating\"]"
   ]
  },
  {
   "cell_type": "code",
   "execution_count": 34,
   "metadata": {},
   "outputs": [],
   "source": [
    "#test set\n",
    "X_test_1 = df2[\"review\"]\n",
    "y_test_1 = df2[\"rating\"]\n",
    "X_test_2 = df3[\"review\"]\n",
    "y_test_2 = df3[\"rating\"]"
   ]
  },
  {
   "cell_type": "markdown",
   "metadata": {},
   "source": [
    "### <font color='Red'>Preprocessing</font>"
   ]
  },
  {
   "cell_type": "code",
   "execution_count": 35,
   "metadata": {},
   "outputs": [
    {
     "name": "stdout",
     "output_type": "stream",
     "text": [
      "(2000, 13600)\n",
      "Vocabulary has 13600 distinct terms\n"
     ]
    }
   ],
   "source": [
    "#numeric format for train set\n",
    "vectorizer = TfidfVectorizer(ngram_range = (1,2), stop_words='english', min_df = 2)\n",
    "X = vectorizer.fit_transform(X_train)\n",
    "print(X.shape)\n",
    "terms = vectorizer.get_feature_names()\n",
    "print(\"Vocabulary has %d distinct terms\" % len(terms))"
   ]
  },
  {
   "cell_type": "code",
   "execution_count": 36,
   "metadata": {},
   "outputs": [
    {
     "name": "stdout",
     "output_type": "stream",
     "text": [
      "['car suddenly', 'car super', 'car supposed', 'car sure', 'car taken', 'car takes', 'car talk', 'car tech', 'car tell', 'car tells']\n"
     ]
    }
   ],
   "source": [
    "# Displaying a set of sample terms\n",
    "print(terms[2000:2010])"
   ]
  },
  {
   "cell_type": "markdown",
   "metadata": {},
   "source": [
    "### <font color='Red'>Training the model</font> "
   ]
  },
  {
   "cell_type": "code",
   "execution_count": 37,
   "metadata": {},
   "outputs": [
    {
     "name": "stderr",
     "output_type": "stream",
     "text": [
      "/Users/sahil/opt/anaconda3/lib/python3.7/site-packages/sklearn/linear_model/logistic.py:432: FutureWarning: Default solver will be changed to 'lbfgs' in 0.22. Specify a solver to silence this warning.\n",
      "  FutureWarning)\n"
     ]
    },
    {
     "data": {
      "text/plain": [
       "LogisticRegression(C=1.0, class_weight=None, dual=False, fit_intercept=True,\n",
       "                   intercept_scaling=1, l1_ratio=None, max_iter=100,\n",
       "                   multi_class='warn', n_jobs=None, penalty='l2',\n",
       "                   random_state=0, solver='warn', tol=0.0001, verbose=0,\n",
       "                   warm_start=False)"
      ]
     },
     "execution_count": 37,
     "metadata": {},
     "output_type": "execute_result"
    }
   ],
   "source": [
    "model_4 = LogisticRegression(random_state=0)\n",
    "model_4.fit(X, y_train)"
   ]
  },
  {
   "cell_type": "markdown",
   "metadata": {},
   "source": [
    "### <font color='Red'>Testing and evaluating on Cafe dataset</font>"
   ]
  },
  {
   "cell_type": "code",
   "execution_count": 38,
   "metadata": {},
   "outputs": [],
   "source": [
    "test_X = vectorizer.transform(X_test_1)\n",
    "predicted = model_4.predict(test_X)"
   ]
  },
  {
   "cell_type": "code",
   "execution_count": 40,
   "metadata": {},
   "outputs": [
    {
     "name": "stdout",
     "output_type": "stream",
     "text": [
      "Accuracy = 0.83\n",
      "              precision    recall  f1-score   support\n",
      "\n",
      "    Negative       0.86      0.43      0.57       538\n",
      "    Positive       0.82      0.98      0.89      1462\n",
      "\n",
      "    accuracy                           0.83      2000\n",
      "   macro avg       0.84      0.70      0.73      2000\n",
      "weighted avg       0.83      0.83      0.81      2000\n",
      "\n"
     ]
    },
    {
     "data": {
      "text/html": [
       "<div>\n",
       "<style scoped>\n",
       "    .dataframe tbody tr th:only-of-type {\n",
       "        vertical-align: middle;\n",
       "    }\n",
       "\n",
       "    .dataframe tbody tr th {\n",
       "        vertical-align: top;\n",
       "    }\n",
       "\n",
       "    .dataframe thead th {\n",
       "        text-align: right;\n",
       "    }\n",
       "</style>\n",
       "<table border=\"1\" class=\"dataframe\">\n",
       "  <thead>\n",
       "    <tr style=\"text-align: right;\">\n",
       "      <th>Predicted</th>\n",
       "      <th>Negative</th>\n",
       "      <th>Positive</th>\n",
       "      <th>All</th>\n",
       "    </tr>\n",
       "    <tr>\n",
       "      <th>True</th>\n",
       "      <th></th>\n",
       "      <th></th>\n",
       "      <th></th>\n",
       "    </tr>\n",
       "  </thead>\n",
       "  <tbody>\n",
       "    <tr>\n",
       "      <th>Negative</th>\n",
       "      <td>229</td>\n",
       "      <td>309</td>\n",
       "      <td>538</td>\n",
       "    </tr>\n",
       "    <tr>\n",
       "      <th>Positive</th>\n",
       "      <td>36</td>\n",
       "      <td>1426</td>\n",
       "      <td>1462</td>\n",
       "    </tr>\n",
       "    <tr>\n",
       "      <th>All</th>\n",
       "      <td>265</td>\n",
       "      <td>1735</td>\n",
       "      <td>2000</td>\n",
       "    </tr>\n",
       "  </tbody>\n",
       "</table>\n",
       "</div>"
      ],
      "text/plain": [
       "Predicted  Negative  Positive   All\n",
       "True                               \n",
       "Negative        229       309   538\n",
       "Positive         36      1426  1462\n",
       "All             265      1735  2000"
      ]
     },
     "metadata": {},
     "output_type": "display_data"
    }
   ],
   "source": [
    "print(\"Accuracy = %.2f\" % accuracy_score(y_test_1, predicted) )\n",
    "m1 = accuracy_score(y_test_1, predicted)\n",
    "print(metrics.classification_report(y_test_1, predicted))\n",
    "display(pd.crosstab(y_test_1, predicted, rownames=[\"True\"], colnames = ['Predicted'], margins = True))"
   ]
  },
  {
   "cell_type": "markdown",
   "metadata": {},
   "source": [
    "### <font color='Red'>Testing and evaluating on Hotel dataset </font>"
   ]
  },
  {
   "cell_type": "code",
   "execution_count": 41,
   "metadata": {},
   "outputs": [],
   "source": [
    "test_X_2 = vectorizer.transform(X_test_2)\n",
    "predicted = model_4.predict(test_X_2)"
   ]
  },
  {
   "cell_type": "code",
   "execution_count": 42,
   "metadata": {},
   "outputs": [
    {
     "name": "stdout",
     "output_type": "stream",
     "text": [
      "Accuracy = 0.85\n",
      "              precision    recall  f1-score   support\n",
      "\n",
      "    Negative       0.94      0.68      0.79       824\n",
      "    Positive       0.81      0.97      0.89      1176\n",
      "\n",
      "    accuracy                           0.85      2000\n",
      "   macro avg       0.88      0.83      0.84      2000\n",
      "weighted avg       0.87      0.85      0.85      2000\n",
      "\n"
     ]
    },
    {
     "data": {
      "text/html": [
       "<div>\n",
       "<style scoped>\n",
       "    .dataframe tbody tr th:only-of-type {\n",
       "        vertical-align: middle;\n",
       "    }\n",
       "\n",
       "    .dataframe tbody tr th {\n",
       "        vertical-align: top;\n",
       "    }\n",
       "\n",
       "    .dataframe thead th {\n",
       "        text-align: right;\n",
       "    }\n",
       "</style>\n",
       "<table border=\"1\" class=\"dataframe\">\n",
       "  <thead>\n",
       "    <tr style=\"text-align: right;\">\n",
       "      <th>Predicted</th>\n",
       "      <th>Negative</th>\n",
       "      <th>Positive</th>\n",
       "      <th>All</th>\n",
       "    </tr>\n",
       "    <tr>\n",
       "      <th>True</th>\n",
       "      <th></th>\n",
       "      <th></th>\n",
       "      <th></th>\n",
       "    </tr>\n",
       "  </thead>\n",
       "  <tbody>\n",
       "    <tr>\n",
       "      <th>Negative</th>\n",
       "      <td>562</td>\n",
       "      <td>262</td>\n",
       "      <td>824</td>\n",
       "    </tr>\n",
       "    <tr>\n",
       "      <th>Positive</th>\n",
       "      <td>33</td>\n",
       "      <td>1143</td>\n",
       "      <td>1176</td>\n",
       "    </tr>\n",
       "    <tr>\n",
       "      <th>All</th>\n",
       "      <td>595</td>\n",
       "      <td>1405</td>\n",
       "      <td>2000</td>\n",
       "    </tr>\n",
       "  </tbody>\n",
       "</table>\n",
       "</div>"
      ],
      "text/plain": [
       "Predicted  Negative  Positive   All\n",
       "True                               \n",
       "Negative        562       262   824\n",
       "Positive         33      1143  1176\n",
       "All             595      1405  2000"
      ]
     },
     "metadata": {},
     "output_type": "display_data"
    }
   ],
   "source": [
    "print(\"Accuracy = %.2f\" % accuracy_score(y_test_2, predicted) )\n",
    "m2 = accuracy_score(y_test_2, predicted)\n",
    "print(metrics.classification_report(y_test_2, predicted))\n",
    "display(pd.crosstab(y_test_2, predicted, rownames=[\"True\"],colnames = ['Predicted'], margins = True))"
   ]
  },
  {
   "cell_type": "code",
   "execution_count": 44,
   "metadata": {},
   "outputs": [
    {
     "data": {
      "image/png": "[encoded data removed]",
      "text/plain": [
       "<Figure size 432x432 with 1 Axes>"
      ]
     },
     "metadata": {
      "needs_background": "light"
     },
     "output_type": "display_data"
    }
   ],
   "source": [
    "data = [m1,m2]\n",
    "lables = ['Cafes','Hotels']\n",
    "plt.figure(figsize = (6,6))\n",
    "plt.bar(lables, data)\n",
    "plt.title('Accuracy for the datasets')\n",
    "plt.xlabel('Datasets')\n",
    "plt.ylabel('Accuracy')\n",
    "plt.show()"
   ]
  },
  {
   "cell_type": "markdown",
   "metadata": {},
   "source": [
    "## 2. Training on Cafe Dataset\n",
    "The model is trained on cafe dataset."
   ]
  },
  {
   "cell_type": "code",
   "execution_count": 45,
   "metadata": {},
   "outputs": [
    {
     "data": {
      "text/html": [
       "<div>\n",
       "<style scoped>\n",
       "    .dataframe tbody tr th:only-of-type {\n",
       "        vertical-align: middle;\n",
       "    }\n",
       "\n",
       "    .dataframe tbody tr th {\n",
       "        vertical-align: top;\n",
       "    }\n",
       "\n",
       "    .dataframe thead th {\n",
       "        text-align: right;\n",
       "    }\n",
       "</style>\n",
       "<table border=\"1\" class=\"dataframe\">\n",
       "  <thead>\n",
       "    <tr style=\"text-align: right;\">\n",
       "      <th></th>\n",
       "      <th>review</th>\n",
       "      <th>rating</th>\n",
       "    </tr>\n",
       "  </thead>\n",
       "  <tbody>\n",
       "    <tr>\n",
       "      <th>0</th>\n",
       "      <td>Pros: Lots of items you would not expect from ...</td>\n",
       "      <td>Positive</td>\n",
       "    </tr>\n",
       "    <tr>\n",
       "      <th>1</th>\n",
       "      <td>Best egg-tarts in town! There's really not muc...</td>\n",
       "      <td>Positive</td>\n",
       "    </tr>\n",
       "    <tr>\n",
       "      <th>2</th>\n",
       "      <td>I've been to ABC Bakery a few times since I re...</td>\n",
       "      <td>Negative</td>\n",
       "    </tr>\n",
       "    <tr>\n",
       "      <th>3</th>\n",
       "      <td>FYI, Closed Monday's New ownership for about 1...</td>\n",
       "      <td>Negative</td>\n",
       "    </tr>\n",
       "    <tr>\n",
       "      <th>4</th>\n",
       "      <td>The inside may not look like much but they mak...</td>\n",
       "      <td>Positive</td>\n",
       "    </tr>\n",
       "  </tbody>\n",
       "</table>\n",
       "</div>"
      ],
      "text/plain": [
       "                                              review    rating\n",
       "0  Pros: Lots of items you would not expect from ...  Positive\n",
       "1  Best egg-tarts in town! There's really not muc...  Positive\n",
       "2  I've been to ABC Bakery a few times since I re...  Negative\n",
       "3  FYI, Closed Monday's New ownership for about 1...  Negative\n",
       "4  The inside may not look like much but they mak...  Positive"
      ]
     },
     "execution_count": 45,
     "metadata": {},
     "output_type": "execute_result"
    }
   ],
   "source": [
    "df2.head()"
   ]
  },
  {
   "cell_type": "code",
   "execution_count": 46,
   "metadata": {},
   "outputs": [],
   "source": [
    "#training set\n",
    "X_train = df2[\"review\"]\n",
    "y_train = df2[\"rating\"]"
   ]
  },
  {
   "cell_type": "code",
   "execution_count": 47,
   "metadata": {},
   "outputs": [],
   "source": [
    "#test set\n",
    "X_test_1 = df1[\"review\"]\n",
    "y_test_1 = df1[\"rating\"]\n",
    "X_test_2 = df3[\"review\"]\n",
    "y_test_2 = df3[\"rating\"]"
   ]
  },
  {
   "cell_type": "markdown",
   "metadata": {},
   "source": [
    "### <font color='Red'>Preprocessing</font>"
   ]
  },
  {
   "cell_type": "code",
   "execution_count": 48,
   "metadata": {},
   "outputs": [
    {
     "name": "stdout",
     "output_type": "stream",
     "text": [
      "(2000, 13423)\n",
      "Vocabulary has 13423 distinct terms\n"
     ]
    }
   ],
   "source": [
    "#numeric format for train set\n",
    "vectorizer = TfidfVectorizer(ngram_range = (1,2), stop_words='english', min_df=2)\n",
    "X = vectorizer.fit_transform(X_train)\n",
    "print(X.shape)\n",
    "terms = vectorizer.get_feature_names()\n",
    "print(\"Vocabulary has %d distinct terms\" % len(terms))"
   ]
  },
  {
   "cell_type": "code",
   "execution_count": 49,
   "metadata": {},
   "outputs": [
    {
     "name": "stdout",
     "output_type": "stream",
     "text": [
      "['chocolate chips', 'chocolate chocolate', 'chocolate chunk', 'chocolate cookie', 'chocolate covered', 'chocolate croissant', 'chocolate cupcake', 'chocolate dipped', 'chocolate frozen', 'chocolate fudge']\n"
     ]
    }
   ],
   "source": [
    "# Displaying a set of sample terms\n",
    "print(terms[2000:2010])"
   ]
  },
  {
   "cell_type": "markdown",
   "metadata": {},
   "source": [
    "### <font color='Red'>Training the model</font>"
   ]
  },
  {
   "cell_type": "code",
   "execution_count": 50,
   "metadata": {},
   "outputs": [
    {
     "name": "stderr",
     "output_type": "stream",
     "text": [
      "/Users/sahil/opt/anaconda3/lib/python3.7/site-packages/sklearn/linear_model/logistic.py:432: FutureWarning: Default solver will be changed to 'lbfgs' in 0.22. Specify a solver to silence this warning.\n",
      "  FutureWarning)\n"
     ]
    },
    {
     "data": {
      "text/plain": [
       "LogisticRegression(C=1.0, class_weight=None, dual=False, fit_intercept=True,\n",
       "                   intercept_scaling=1, l1_ratio=None, max_iter=100,\n",
       "                   multi_class='warn', n_jobs=None, penalty='l2',\n",
       "                   random_state=0, solver='warn', tol=0.0001, verbose=0,\n",
       "                   warm_start=False)"
      ]
     },
     "execution_count": 50,
     "metadata": {},
     "output_type": "execute_result"
    }
   ],
   "source": [
    "model_5 = LogisticRegression(random_state=0)\n",
    "model_5.fit(X, y_train)"
   ]
  },
  {
   "cell_type": "markdown",
   "metadata": {},
   "source": [
    "### <font color='Red'>Testing and evaluating on Automotive dataset</font>"
   ]
  },
  {
   "cell_type": "code",
   "execution_count": 51,
   "metadata": {},
   "outputs": [],
   "source": [
    "test_X = vectorizer.transform(X_test_1)\n",
    "predicted = model_5.predict(test_X)"
   ]
  },
  {
   "cell_type": "code",
   "execution_count": 52,
   "metadata": {},
   "outputs": [
    {
     "name": "stdout",
     "output_type": "stream",
     "text": [
      "Accuracy = 0.79\n",
      "              precision    recall  f1-score   support\n",
      "\n",
      "    Negative       0.84      0.58      0.69       788\n",
      "    Positive       0.77      0.93      0.84      1212\n",
      "\n",
      "    accuracy                           0.79      2000\n",
      "   macro avg       0.81      0.75      0.77      2000\n",
      "weighted avg       0.80      0.79      0.78      2000\n",
      "\n"
     ]
    },
    {
     "data": {
      "text/html": [
       "<div>\n",
       "<style scoped>\n",
       "    .dataframe tbody tr th:only-of-type {\n",
       "        vertical-align: middle;\n",
       "    }\n",
       "\n",
       "    .dataframe tbody tr th {\n",
       "        vertical-align: top;\n",
       "    }\n",
       "\n",
       "    .dataframe thead th {\n",
       "        text-align: right;\n",
       "    }\n",
       "</style>\n",
       "<table border=\"1\" class=\"dataframe\">\n",
       "  <thead>\n",
       "    <tr style=\"text-align: right;\">\n",
       "      <th>Predicted</th>\n",
       "      <th>Negative</th>\n",
       "      <th>Positive</th>\n",
       "      <th>All</th>\n",
       "    </tr>\n",
       "    <tr>\n",
       "      <th>True</th>\n",
       "      <th></th>\n",
       "      <th></th>\n",
       "      <th></th>\n",
       "    </tr>\n",
       "  </thead>\n",
       "  <tbody>\n",
       "    <tr>\n",
       "      <th>Negative</th>\n",
       "      <td>459</td>\n",
       "      <td>329</td>\n",
       "      <td>788</td>\n",
       "    </tr>\n",
       "    <tr>\n",
       "      <th>Positive</th>\n",
       "      <td>89</td>\n",
       "      <td>1123</td>\n",
       "      <td>1212</td>\n",
       "    </tr>\n",
       "    <tr>\n",
       "      <th>All</th>\n",
       "      <td>548</td>\n",
       "      <td>1452</td>\n",
       "      <td>2000</td>\n",
       "    </tr>\n",
       "  </tbody>\n",
       "</table>\n",
       "</div>"
      ],
      "text/plain": [
       "Predicted  Negative  Positive   All\n",
       "True                               \n",
       "Negative        459       329   788\n",
       "Positive         89      1123  1212\n",
       "All             548      1452  2000"
      ]
     },
     "metadata": {},
     "output_type": "display_data"
    }
   ],
   "source": [
    "print(\"Accuracy = %.2f\" % accuracy_score(y_test_1, predicted) )\n",
    "m1 = accuracy_score(y_test_1, predicted)\n",
    "print(metrics.classification_report(y_test_1, predicted))\n",
    "display(pd.crosstab(y_test_1, predicted, rownames=[\"True\"],colnames = ['Predicted'], margins = True))"
   ]
  },
  {
   "cell_type": "markdown",
   "metadata": {},
   "source": [
    "### <font color='Red'>Testing and evaluating on Hotel dataset</font>"
   ]
  },
  {
   "cell_type": "code",
   "execution_count": 53,
   "metadata": {},
   "outputs": [],
   "source": [
    "test_X_2 = vectorizer.transform(X_test_2)\n",
    "predicted = model_5.predict(test_X_2)"
   ]
  },
  {
   "cell_type": "code",
   "execution_count": 54,
   "metadata": {},
   "outputs": [
    {
     "name": "stdout",
     "output_type": "stream",
     "text": [
      "Accuracy = 0.78\n",
      "              precision    recall  f1-score   support\n",
      "\n",
      "    Negative       0.93      0.51      0.66       824\n",
      "    Positive       0.74      0.97      0.84      1176\n",
      "\n",
      "    accuracy                           0.78      2000\n",
      "   macro avg       0.83      0.74      0.75      2000\n",
      "weighted avg       0.82      0.78      0.76      2000\n",
      "\n"
     ]
    },
    {
     "data": {
      "text/html": [
       "<div>\n",
       "<style scoped>\n",
       "    .dataframe tbody tr th:only-of-type {\n",
       "        vertical-align: middle;\n",
       "    }\n",
       "\n",
       "    .dataframe tbody tr th {\n",
       "        vertical-align: top;\n",
       "    }\n",
       "\n",
       "    .dataframe thead th {\n",
       "        text-align: right;\n",
       "    }\n",
       "</style>\n",
       "<table border=\"1\" class=\"dataframe\">\n",
       "  <thead>\n",
       "    <tr style=\"text-align: right;\">\n",
       "      <th>Predicted</th>\n",
       "      <th>Negative</th>\n",
       "      <th>Positive</th>\n",
       "      <th>All</th>\n",
       "    </tr>\n",
       "    <tr>\n",
       "      <th>True</th>\n",
       "      <th></th>\n",
       "      <th></th>\n",
       "      <th></th>\n",
       "    </tr>\n",
       "  </thead>\n",
       "  <tbody>\n",
       "    <tr>\n",
       "      <th>Negative</th>\n",
       "      <td>418</td>\n",
       "      <td>406</td>\n",
       "      <td>824</td>\n",
       "    </tr>\n",
       "    <tr>\n",
       "      <th>Positive</th>\n",
       "      <td>33</td>\n",
       "      <td>1143</td>\n",
       "      <td>1176</td>\n",
       "    </tr>\n",
       "    <tr>\n",
       "      <th>All</th>\n",
       "      <td>451</td>\n",
       "      <td>1549</td>\n",
       "      <td>2000</td>\n",
       "    </tr>\n",
       "  </tbody>\n",
       "</table>\n",
       "</div>"
      ],
      "text/plain": [
       "Predicted  Negative  Positive   All\n",
       "True                               \n",
       "Negative        418       406   824\n",
       "Positive         33      1143  1176\n",
       "All             451      1549  2000"
      ]
     },
     "metadata": {},
     "output_type": "display_data"
    }
   ],
   "source": [
    "print(\"Accuracy = %.2f\" % accuracy_score(y_test_2, predicted) )\n",
    "m2 = accuracy_score(y_test_2, predicted)\n",
    "print(metrics.classification_report(y_test_2, predicted))\n",
    "display(pd.crosstab(y_test_2, predicted, rownames=[\"True\"],colnames = ['Predicted'], margins = True))"
   ]
  },
  {
   "cell_type": "code",
   "execution_count": 67,
   "metadata": {},
   "outputs": [
    {
     "data": {
      "image/png": "[encoded data removed]",
      "text/plain": [
       "<Figure size 432x432 with 1 Axes>"
      ]
     },
     "metadata": {
      "needs_background": "light"
     },
     "output_type": "display_data"
    }
   ],
   "source": [
    "data = [m1,m2]\n",
    "lables = ['Automotive','Hotels']\n",
    "plt.figure(figsize = (6,6))\n",
    "plt.bar(lables, data)\n",
    "plt.title('Accuracy for the datasets')\n",
    "plt.xlabel('Datasets')\n",
    "plt.ylabel('Accuracy')\n",
    "plt.show()"
   ]
  },
  {
   "cell_type": "markdown",
   "metadata": {},
   "source": [
    "## 3. Training on Hotel Dataset\n",
    "Training the model on hotel dataset."
   ]
  },
  {
   "cell_type": "code",
   "execution_count": 56,
   "metadata": {},
   "outputs": [
    {
     "data": {
      "text/html": [
       "<div>\n",
       "<style scoped>\n",
       "    .dataframe tbody tr th:only-of-type {\n",
       "        vertical-align: middle;\n",
       "    }\n",
       "\n",
       "    .dataframe tbody tr th {\n",
       "        vertical-align: top;\n",
       "    }\n",
       "\n",
       "    .dataframe thead th {\n",
       "        text-align: right;\n",
       "    }\n",
       "</style>\n",
       "<table border=\"1\" class=\"dataframe\">\n",
       "  <thead>\n",
       "    <tr style=\"text-align: right;\">\n",
       "      <th></th>\n",
       "      <th>review</th>\n",
       "      <th>rating</th>\n",
       "    </tr>\n",
       "  </thead>\n",
       "  <tbody>\n",
       "    <tr>\n",
       "      <th>0</th>\n",
       "      <td>Melissa took us on a tour of Asia in the space...</td>\n",
       "      <td>Positive</td>\n",
       "    </tr>\n",
       "    <tr>\n",
       "      <th>1</th>\n",
       "      <td>With a group of seven of us visiting Montreal ...</td>\n",
       "      <td>Positive</td>\n",
       "    </tr>\n",
       "    <tr>\n",
       "      <th>2</th>\n",
       "      <td>Melissa is a gem! My fiancé found her tour on ...</td>\n",
       "      <td>Positive</td>\n",
       "    </tr>\n",
       "    <tr>\n",
       "      <th>3</th>\n",
       "      <td>A perfect day in Montreal! Melissa outfitted u...</td>\n",
       "      <td>Positive</td>\n",
       "    </tr>\n",
       "    <tr>\n",
       "      <th>4</th>\n",
       "      <td>I had a really great food truck tour with Meli...</td>\n",
       "      <td>Positive</td>\n",
       "    </tr>\n",
       "  </tbody>\n",
       "</table>\n",
       "</div>"
      ],
      "text/plain": [
       "                                              review    rating\n",
       "0  Melissa took us on a tour of Asia in the space...  Positive\n",
       "1  With a group of seven of us visiting Montreal ...  Positive\n",
       "2  Melissa is a gem! My fiancé found her tour on ...  Positive\n",
       "3  A perfect day in Montreal! Melissa outfitted u...  Positive\n",
       "4  I had a really great food truck tour with Meli...  Positive"
      ]
     },
     "execution_count": 56,
     "metadata": {},
     "output_type": "execute_result"
    }
   ],
   "source": [
    "df3.head()"
   ]
  },
  {
   "cell_type": "code",
   "execution_count": 57,
   "metadata": {},
   "outputs": [],
   "source": [
    "#training set\n",
    "X_train = df3[\"review\"]\n",
    "y_train = df3[\"rating\"]"
   ]
  },
  {
   "cell_type": "code",
   "execution_count": 58,
   "metadata": {},
   "outputs": [],
   "source": [
    "#test set\n",
    "X_test_1 = df1[\"review\"]\n",
    "y_test_1 = df1[\"rating\"]\n",
    "X_test_2 = df2[\"review\"]\n",
    "y_test_2 = df2[\"rating\"]"
   ]
  },
  {
   "cell_type": "markdown",
   "metadata": {},
   "source": [
    "### <font color='Red'>Preprocessing</font>"
   ]
  },
  {
   "cell_type": "code",
   "execution_count": 59,
   "metadata": {},
   "outputs": [
    {
     "name": "stdout",
     "output_type": "stream",
     "text": [
      "(2000, 15501)\n",
      "Vocabulary has 15501 distinct terms\n"
     ]
    }
   ],
   "source": [
    "#numeric format for train set\n",
    "vectorizer = TfidfVectorizer(ngram_range = (1,2), stop_words='english', min_df=2)\n",
    "X = vectorizer.fit_transform(X_train)\n",
    "print(X.shape)\n",
    "terms = vectorizer.get_feature_names()\n",
    "print(\"Vocabulary has %d distinct terms\" % len(terms))"
   ]
  },
  {
   "cell_type": "code",
   "execution_count": 60,
   "metadata": {},
   "outputs": [
    {
     "name": "stdout",
     "output_type": "stream",
     "text": [
      "['camping', 'campus', 'camry', 'canada', 'canadian', 'canadian passport', 'canadians', 'canal', 'canal shoppes', 'canals']\n"
     ]
    }
   ],
   "source": [
    "# Displaying a set of sample terms\n",
    "print(terms[2000:2010])"
   ]
  },
  {
   "cell_type": "markdown",
   "metadata": {},
   "source": [
    "### <font color='Red'>Traing the model</font>"
   ]
  },
  {
   "cell_type": "code",
   "execution_count": 61,
   "metadata": {},
   "outputs": [
    {
     "name": "stderr",
     "output_type": "stream",
     "text": [
      "/Users/sahil/opt/anaconda3/lib/python3.7/site-packages/sklearn/linear_model/logistic.py:432: FutureWarning: Default solver will be changed to 'lbfgs' in 0.22. Specify a solver to silence this warning.\n",
      "  FutureWarning)\n"
     ]
    },
    {
     "data": {
      "text/plain": [
       "LogisticRegression(C=1.0, class_weight=None, dual=False, fit_intercept=True,\n",
       "                   intercept_scaling=1, l1_ratio=None, max_iter=100,\n",
       "                   multi_class='warn', n_jobs=None, penalty='l2',\n",
       "                   random_state=0, solver='warn', tol=0.0001, verbose=0,\n",
       "                   warm_start=False)"
      ]
     },
     "execution_count": 61,
     "metadata": {},
     "output_type": "execute_result"
    }
   ],
   "source": [
    "model_6 = LogisticRegression(random_state=0)\n",
    "model_6.fit(X, y_train)"
   ]
  },
  {
   "cell_type": "markdown",
   "metadata": {},
   "source": [
    "### <font color='Red'>Testing and evaluating on Automotive dataset</font>"
   ]
  },
  {
   "cell_type": "code",
   "execution_count": 62,
   "metadata": {},
   "outputs": [],
   "source": [
    "test_X = vectorizer.transform(X_test_1)\n",
    "predicted = model_6.predict(test_X)"
   ]
  },
  {
   "cell_type": "code",
   "execution_count": 63,
   "metadata": {},
   "outputs": [
    {
     "name": "stdout",
     "output_type": "stream",
     "text": [
      "Accuracy = 0.87\n",
      "              precision    recall  f1-score   support\n",
      "\n",
      "    Negative       0.82      0.88      0.85       788\n",
      "    Positive       0.92      0.87      0.89      1212\n",
      "\n",
      "    accuracy                           0.87      2000\n",
      "   macro avg       0.87      0.87      0.87      2000\n",
      "weighted avg       0.88      0.87      0.87      2000\n",
      "\n"
     ]
    },
    {
     "data": {
      "text/html": [
       "<div>\n",
       "<style scoped>\n",
       "    .dataframe tbody tr th:only-of-type {\n",
       "        vertical-align: middle;\n",
       "    }\n",
       "\n",
       "    .dataframe tbody tr th {\n",
       "        vertical-align: top;\n",
       "    }\n",
       "\n",
       "    .dataframe thead th {\n",
       "        text-align: right;\n",
       "    }\n",
       "</style>\n",
       "<table border=\"1\" class=\"dataframe\">\n",
       "  <thead>\n",
       "    <tr style=\"text-align: right;\">\n",
       "      <th>Predicted</th>\n",
       "      <th>Negative</th>\n",
       "      <th>Positive</th>\n",
       "      <th>All</th>\n",
       "    </tr>\n",
       "    <tr>\n",
       "      <th>True</th>\n",
       "      <th></th>\n",
       "      <th></th>\n",
       "      <th></th>\n",
       "    </tr>\n",
       "  </thead>\n",
       "  <tbody>\n",
       "    <tr>\n",
       "      <th>Negative</th>\n",
       "      <td>690</td>\n",
       "      <td>98</td>\n",
       "      <td>788</td>\n",
       "    </tr>\n",
       "    <tr>\n",
       "      <th>Positive</th>\n",
       "      <td>155</td>\n",
       "      <td>1057</td>\n",
       "      <td>1212</td>\n",
       "    </tr>\n",
       "    <tr>\n",
       "      <th>All</th>\n",
       "      <td>845</td>\n",
       "      <td>1155</td>\n",
       "      <td>2000</td>\n",
       "    </tr>\n",
       "  </tbody>\n",
       "</table>\n",
       "</div>"
      ],
      "text/plain": [
       "Predicted  Negative  Positive   All\n",
       "True                               \n",
       "Negative        690        98   788\n",
       "Positive        155      1057  1212\n",
       "All             845      1155  2000"
      ]
     },
     "metadata": {},
     "output_type": "display_data"
    }
   ],
   "source": [
    "print(\"Accuracy = %.2f\" % accuracy_score(y_test_1, predicted) )\n",
    "m1 = accuracy_score(y_test_1, predicted)\n",
    "print(metrics.classification_report(y_test_1, predicted))\n",
    "display(pd.crosstab(y_test_1, predicted, rownames=[\"True\"],colnames = ['Predicted'], margins = True))"
   ]
  },
  {
   "cell_type": "markdown",
   "metadata": {},
   "source": [
    "### <font color='Red'>Testing and evaluating on Cafe dataset</font>"
   ]
  },
  {
   "cell_type": "code",
   "execution_count": 64,
   "metadata": {},
   "outputs": [],
   "source": [
    "test_X_2 = vectorizer.transform(X_test_2)\n",
    "predicted = model_6.predict(test_X_2)"
   ]
  },
  {
   "cell_type": "code",
   "execution_count": 65,
   "metadata": {},
   "outputs": [
    {
     "name": "stdout",
     "output_type": "stream",
     "text": [
      "Accuracy = 0.86\n",
      "              precision    recall  f1-score   support\n",
      "\n",
      "    Negative       0.91      0.52      0.66       538\n",
      "    Positive       0.85      0.98      0.91      1462\n",
      "\n",
      "    accuracy                           0.86      2000\n",
      "   macro avg       0.88      0.75      0.79      2000\n",
      "weighted avg       0.87      0.86      0.84      2000\n",
      "\n"
     ]
    },
    {
     "data": {
      "text/html": [
       "<div>\n",
       "<style scoped>\n",
       "    .dataframe tbody tr th:only-of-type {\n",
       "        vertical-align: middle;\n",
       "    }\n",
       "\n",
       "    .dataframe tbody tr th {\n",
       "        vertical-align: top;\n",
       "    }\n",
       "\n",
       "    .dataframe thead th {\n",
       "        text-align: right;\n",
       "    }\n",
       "</style>\n",
       "<table border=\"1\" class=\"dataframe\">\n",
       "  <thead>\n",
       "    <tr style=\"text-align: right;\">\n",
       "      <th>Predicted</th>\n",
       "      <th>Negative</th>\n",
       "      <th>Positive</th>\n",
       "      <th>All</th>\n",
       "    </tr>\n",
       "    <tr>\n",
       "      <th>True</th>\n",
       "      <th></th>\n",
       "      <th></th>\n",
       "      <th></th>\n",
       "    </tr>\n",
       "  </thead>\n",
       "  <tbody>\n",
       "    <tr>\n",
       "      <th>Negative</th>\n",
       "      <td>279</td>\n",
       "      <td>259</td>\n",
       "      <td>538</td>\n",
       "    </tr>\n",
       "    <tr>\n",
       "      <th>Positive</th>\n",
       "      <td>26</td>\n",
       "      <td>1436</td>\n",
       "      <td>1462</td>\n",
       "    </tr>\n",
       "    <tr>\n",
       "      <th>All</th>\n",
       "      <td>305</td>\n",
       "      <td>1695</td>\n",
       "      <td>2000</td>\n",
       "    </tr>\n",
       "  </tbody>\n",
       "</table>\n",
       "</div>"
      ],
      "text/plain": [
       "Predicted  Negative  Positive   All\n",
       "True                               \n",
       "Negative        279       259   538\n",
       "Positive         26      1436  1462\n",
       "All             305      1695  2000"
      ]
     },
     "metadata": {},
     "output_type": "display_data"
    }
   ],
   "source": [
    "print(\"Accuracy = %.2f\" % accuracy_score(y_test_2, predicted) )\n",
    "m2 = accuracy_score(y_test_2, predicted)\n",
    "print(metrics.classification_report(y_test_2, predicted))\n",
    "display(pd.crosstab(y_test_2, predicted, rownames=[\"True\"],colnames = ['Predicted'], margins = True))"
   ]
  },
  {
   "cell_type": "code",
   "execution_count": 68,
   "metadata": {},
   "outputs": [
    {
     "data": {
      "image/png": "[encoded data removed]",
      "text/plain": [
       "<Figure size 432x432 with 1 Axes>"
      ]
     },
     "metadata": {
      "needs_background": "light"
     },
     "output_type": "display_data"
    }
   ],
   "source": [
    "data = [m1,m2]\n",
    "lables = ['Auromotive','Cafes']\n",
    "plt.figure(figsize = (6,6))\n",
    "plt.bar(lables, data)\n",
    "plt.title('Accuracy for the datasets')\n",
    "plt.xlabel('Datasets')\n",
    "plt.ylabel('Accuracy')\n",
    "plt.show()"
   ]
  },
  {
   "cell_type": "markdown",
   "metadata": {},
   "source": [
    "1. The model is trained on the data from **Automotive** dataset and its performance is evaluated on the data from **Cafe** and **Hotel** dataset.\n",
    "    1. The model is evaluated on the cafe dataset first. The accuracy of the model is 0.83, which can be conisdered good, but we will look at the confusion matrix. Out of 538 negative reviews, 229 reviews are predicted as negative while 309 reviews are predicted as postive, which is not good. The F1 score for negative reviews is 0.57. Out of 1462 positive reviews, the model predicts 1426 reviews as positive whereas only 36 negative, which is good. The F1 score for positive class is 0.89. So it can be said that the model trained on automotive dataset is classifying the positive reviews form the cafe dataset well, but not the negative reviews.\n",
    "    2. The model is now evaluated on the hotel dataset. The accuracy of the model is 0.85, which is good. Considering the confuison matrix, we can see that out of 824 negative reviews, 562 reviews are predicted correctly as negative but 262 reviews are predicted as positive which is inocrrect. The F1 score for negative reviews is 0.79. For positve reviews, out of 1176 positive reviews, 1143 reviews are coorectly predicted as postive and only 33 positive reviews are incorrectly negative. The F1 score for positive review is 0.89.\n",
    "    \n",
    "      The model when evaluated on hotel data gives a better accuracy. In both the cases, it predicts well for positive reviews.\n",
    "    \n",
    "    \n",
    "2. The model is trained on the data from **Cafe** dataset and its performace is evaluated on the data from **Automotive** and **Hotel** dataset.\n",
    "    1. The model is evaluated on the automotive dataset. The accuracy of the model is 0.79. Considering the confusion matrix, we can see that out of 788 negative reviews, 459 reviews are correctly predicted as negative, but 329 reviews are predicted as positive, which is not very good. The F1 score for negative class is 0.69. Further oyt of 1212 positive reviews, 1123 reviews are correctly predcited as positve whereas only 89 reviews are predicted as negative. We can say that the model is predicting positive class well. The F1 score for positive class is 0.84.\n",
    "    2. The model is then evaluetd on hotle datatset as test set. The accuracy of the model is 0.78. Considering the confusion matrix, we can see that out of 824 negative reviews only 418 reviews are predicted correctly as negative and 406 are predicted incorrectly as positive, which is not good. The F1 score for positive reviews is 0.66. Now, for positive reviews, out of 1176 positive reviews, 1143 reviews are correctly predicted as positive and only 33 are incorrectly predicted as negative. The F1 score for positive reviews is 0.84. \n",
    "    \n",
    "    The model evaluated on automotive dataset gives a better accuracy. It can be concluded that in both cases, the model is predicted well for the positive reviews, but not that good for negative reviews.\n",
    "    \n",
    "    \n",
    "3. The model is trained on the data from **Hotel** dataset and its performace is evaluated on the data from **Automotive** and **Cafe** dataset.\n",
    "    1. The model is evaluated on automotive dataset. The accuracy of the model is 0.87, which is good. Now considering the confusion matrix, out of 788 negative reviews, 690 reviews are correctly classified as negative reviews and only 98 reviews are incorrectly classified as positive reviews, which is good. The F1 score for negative reviews is 0.85. Out of 1212 positive reviews, 1155 reviews are correctly predicted as positive and 845 reviews are incorrectly predicted as negative, which is not bad. The F1 score for positive reviews is 0.89.\n",
    "    2. The model is revaluated on cafe dataset. The accuracy of the model is 0.86, which is agin good. Considering the confusion matrix, out of 538 negtive reviews, 279 reviews are correctly predicted as negative whereas 259 reviews are incorrectly predicted as positive, which is not good. The F1 score for the negative reviews is 0.66. Out of 1462 positive reviews, 1436 reviews are correctly predicted as positive, and only 26 are incorrectly predicted as negative, which is good. The F1 score for the positive reviews is 0.91.\n",
    "   \n",
    "    The model evaluted on automotive dataset gives a better accuracy. In the first case (automotive dataset), the model predicts well in both positive and negative reviews, while in the second case, the model predicts well for positive reviews, but not for negative reviews."
   ]
  }
 ],
 "metadata": {
  "kernelspec": {
   "display_name": "Python 3",
   "language": "python",
   "name": "python3"
  },
  "language_info": {
   "codemirror_mode": {
    "name": "ipython",
    "version": 3
   },
   "file_extension": ".py",
   "mimetype": "text/x-python",
   "name": "python",
   "nbconvert_exporter": "python",
   "pygments_lexer": "ipython3",
   "version": "3.7.4"
  }
 },
 "nbformat": 4,
 "nbformat_minor": 2
}
